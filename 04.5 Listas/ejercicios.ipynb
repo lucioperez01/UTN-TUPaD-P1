{
 "cells": [
  {
   "cell_type": "markdown",
   "id": "651a991b",
   "metadata": {},
   "source": [
    "1) Crear una lista con los números del 1 al 100 que sean múltiplos de 4. Utilizar la función\n",
    "range."
   ]
  },
  {
   "cell_type": "code",
   "execution_count": 2,
   "id": "2cc27ee1",
   "metadata": {},
   "outputs": [
    {
     "name": "stdout",
     "output_type": "stream",
     "text": [
      "[0, 4, 8, 12, 16, 20, 24, 28, 32, 36, 40, 44, 48, 52, 56, 60, 64, 68, 72, 76, 80, 84, 88, 92, 96, 100]\n"
     ]
    }
   ],
   "source": [
    "lista_mult_4 = list(range(0,101,4))\n",
    "print(lista_mult_4)"
   ]
  },
  {
   "cell_type": "markdown",
   "id": "e2461d75",
   "metadata": {},
   "source": [
    "2) Crear una lista con cinco elementos (colocar los elementos que más te gusten) y mostrar el\n",
    "penúltimo. ¡Puedes hacerlo como se muestra en los videos o bien investigar cómo funciona el\n",
    "indexing con números negativos!\n"
   ]
  },
  {
   "cell_type": "code",
   "execution_count": 8,
   "id": "f7ce4d69",
   "metadata": {},
   "outputs": [
    {
     "name": "stdout",
     "output_type": "stream",
     "text": [
      "Python\n",
      "Python!\n"
     ]
    }
   ],
   "source": [
    "lista = [\"Bash\", \"C\", \"Javascript\", \"Python\", \"C++\"]\n",
    "print(lista[-2])\n",
    "print(f\"{lista[3]}!\")"
   ]
  },
  {
   "cell_type": "markdown",
   "id": "3973792f",
   "metadata": {},
   "source": [
    "3) Crear una lista vacía, agregar tres palabras con append e imprimir la lista resultante por\n",
    "pantalla. Pista: para crear una lista vacía debes colocar los corchetes sin nada en su interior. Por\n",
    "ejemplo:\n",
    "lista_vacia = []"
   ]
  },
  {
   "cell_type": "code",
   "execution_count": 10,
   "id": "bb53c83a",
   "metadata": {},
   "outputs": [
    {
     "name": "stdout",
     "output_type": "stream",
     "text": [
      "['Bicicleta', 'Python', 'Silla']\n"
     ]
    }
   ],
   "source": [
    "lista=[]\n",
    "lista.append(\"Bicicleta\")\n",
    "lista.append(\"Python\")\n",
    "lista.append(\"Silla\")\n",
    "print(lista)"
   ]
  },
  {
   "cell_type": "markdown",
   "id": "2622a929",
   "metadata": {},
   "source": [
    "4) Reemplazar el segundo y último valor de la lista “animales” con las palabras “loro” y “oso”,\n",
    "respectivamente. Imprimir la lista resultante por pantalla. ¡Puedes hacerlo como se muestra\n",
    "en los videos o bien investigar cómo funciona el indexing con números negativos!\n",
    "animales = [\"perro\", \"gato\", \"conejo\", \"pez\"]"
   ]
  },
  {
   "cell_type": "code",
   "execution_count": 29,
   "id": "acacc801",
   "metadata": {},
   "outputs": [
    {
     "name": "stdout",
     "output_type": "stream",
     "text": [
      "['perro', 'gato', 'conejo', 'pez']\n",
      "          ---↓---          ---↓---\n",
      "['perro', 'loro', 'conejo', 'oso']\n"
     ]
    }
   ],
   "source": [
    "animales = [\"perro\", \"gato\", \"conejo\", \"pez\"]\n",
    "print(animales)\n",
    "print(\"          ---↓---          ---↓---\")\n",
    "animales[1] = \"loro\"\n",
    "animales[-1]= \"oso\"\n",
    "print(animales)"
   ]
  },
  {
   "cell_type": "markdown",
   "id": "91a7761e",
   "metadata": {},
   "source": [
    "6) Crear una lista con números del 10 al 30 (incluído), haciendo saltos de 5 en 5 y mostrar por\n",
    "pantalla los dos primeros."
   ]
  },
  {
   "cell_type": "code",
   "execution_count": 33,
   "id": "d41b6093",
   "metadata": {},
   "outputs": [
    {
     "name": "stdout",
     "output_type": "stream",
     "text": [
      "Lista completa: [10, 15, 20, 25, 30]\n",
      "Primeros dos elementos: [10, 15]\n"
     ]
    }
   ],
   "source": [
    "lista = list(range(10,31,5))\n",
    "print(f\"Lista completa: {lista}\")\n",
    "print(f\"Primeros dos elementos: {lista[0:2]}\")"
   ]
  },
  {
   "cell_type": "markdown",
   "id": "c365069b",
   "metadata": {},
   "source": [
    "7) Reemplazar los dos valores centrales (índices 1 y 2) de la lista “autos” por dos nuevos valores\n",
    "cualesquiera.\n",
    "autos = [\"sedan\", \"polo\", \"suran\", \"gol\"]"
   ]
  },
  {
   "cell_type": "code",
   "execution_count": 36,
   "id": "56b32dee",
   "metadata": {},
   "outputs": [
    {
     "name": "stdout",
     "output_type": "stream",
     "text": [
      "Lista original: ['sedan', 'polo', 'suran', 'gol']\n",
      "Lista modificada: ['sedan', 'cruze', 'corolla', 'gol']\n"
     ]
    }
   ],
   "source": [
    "autos = [\"sedan\", \"polo\", \"suran\", \"gol\"]\n",
    "print(f\"Lista original: {autos}\")\n",
    "autos[1] = \"cruze\" \n",
    "autos[2] = \"corolla\"\n",
    "print(f\"Lista modificada: {autos}\")"
   ]
  },
  {
   "cell_type": "markdown",
   "id": "e72f0ff2",
   "metadata": {},
   "source": [
    "8) Crear una lista vacía llamada \"dobles\" y agregar el doble de 5, 10 y 15 usando append\n",
    "directamente. Imprimir la lista resultante por pantalla."
   ]
  },
  {
   "cell_type": "code",
   "execution_count": null,
   "id": "43c69f1d",
   "metadata": {},
   "outputs": [
    {
     "name": "stdout",
     "output_type": "stream",
     "text": [
      "[10, 20, 30]\n"
     ]
    }
   ],
   "source": [
    "dobles = []\n",
    "dobles.append(2*5)\n",
    "dobles.append(2*10)\n",
    "dobles.append(2*15)\n",
    "print(dobles)"
   ]
  },
  {
   "cell_type": "markdown",
   "id": "14ececbd",
   "metadata": {},
   "source": [
    "9) Dada la lista “compras”, cuyos elementos representan los productos comprados por\n",
    "diferentes clientes:\n",
    "compras = [[\"pan\", \"leche\"], [\"arroz\", \"fideos\", \"salsa\"],\n",
    "[\"agua\"]]\n",
    "a) Agregar \"jugo\" a la lista del tercer cliente usando append.\n",
    "b) Reemplazar \"fideos\" por \"tallarines\" en la lista del segundo cliente.\n",
    "c) Eliminar \"pan\" de la lista del primer cliente.\n",
    "d) Imprimir la lista resultante por pantalla"
   ]
  },
  {
   "cell_type": "code",
   "execution_count": null,
   "id": "d2bf7dd9",
   "metadata": {},
   "outputs": [
    {
     "name": "stdout",
     "output_type": "stream",
     "text": [
      "[['leche'], ['arroz', 'tallarines', 'salsa'], ['agua', 'jugo']]\n"
     ]
    }
   ],
   "source": [
    "compras = [[\"pan\", \"leche\"], [\"arroz\", \"fideos\", \"salsa\"],\n",
    "[\"agua\"]]\n",
    "print(f\"Lista original: {compras}\")\n",
    "compras[2].append(\"jugo\")\n",
    "compras[1][1]=\"tallarines\"\n",
    "compras[0].remove(\"pan\")\n",
    "print(compras)"
   ]
  }
 ],
 "metadata": {
  "kernelspec": {
   "display_name": "Python 3",
   "language": "python",
   "name": "python3"
  },
  "language_info": {
   "codemirror_mode": {
    "name": "ipython",
    "version": 3
   },
   "file_extension": ".py",
   "mimetype": "text/x-python",
   "name": "python",
   "nbconvert_exporter": "python",
   "pygments_lexer": "ipython3",
   "version": "3.11.3"
  }
 },
 "nbformat": 4,
 "nbformat_minor": 5
}
